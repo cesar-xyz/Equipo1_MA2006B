{
 "cells": [
  {
   "cell_type": "markdown",
   "source": [
    "# Exploración y pruebas de hashing en python"
   ],
   "metadata": {
    "collapsed": false
   }
  },
  {
   "cell_type": "code",
   "execution_count": null,
   "outputs": [],
   "source": [
    "# TODO: Busquen librerías que hagan hashing con sha-256"
   ],
   "metadata": {
    "collapsed": false
   }
  },
  {
   "cell_type": "code",
   "execution_count": 1,
   "outputs": [],
   "source": [
    "import hashlib"
   ],
   "metadata": {
    "collapsed": false
   }
  },
  {
   "cell_type": "code",
   "execution_count": null,
   "outputs": [],
   "source": [
    "# hashlib permite usar una funcion de sha256()\n",
    "# link de libreria https://www.pythonpool.com/python-sha256/\n",
    "# link de la libreria .py https://github.com/python/cpython/blob/3.11/Lib/hashlib.py\n",
    "# la libreria .py indica que su licencia es copyrighted"
   ],
   "metadata": {
    "collapsed": false
   }
  },
  {
   "cell_type": "code",
   "execution_count": null,
   "outputs": [],
   "source": [
    "import hashlib\n",
    "string=\"prueba de string\"\n",
    "encoded=string.encode()\n",
    "result = hashlib.sha256(encoded)"
   ],
   "metadata": {
    "collapsed": false
   }
  }
 ],
 "metadata": {
  "kernelspec": {
   "display_name": "Python 3",
   "language": "python",
   "name": "python3"
  },
  "language_info": {
   "codemirror_mode": {
    "name": "ipython",
    "version": 2
   },
   "file_extension": ".py",
   "mimetype": "text/x-python",
   "name": "python",
   "nbconvert_exporter": "python",
   "pygments_lexer": "ipython2",
   "version": "2.7.6"
  }
 },
 "nbformat": 4,
 "nbformat_minor": 0
}
