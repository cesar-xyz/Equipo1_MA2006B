{
 "cells": [
  {
   "cell_type": "markdown",
   "source": [
    "# Exploración de las trazas.\n",
    "Las trazas fueron proporcionados por la OSF: COCOA."
   ],
   "metadata": {
    "collapsed": false,
    "pycharm": {
     "name": "#%% md\n"
    }
   }
  },
  {
   "cell_type": "code",
   "execution_count": 1,
   "outputs": [],
   "source": [
    "import pandas as pd"
   ],
   "metadata": {
    "collapsed": false,
    "pycharm": {
     "name": "#%%\n"
    }
   }
  },
  {
   "cell_type": "code",
   "execution_count": 2,
   "outputs": [
    {
     "data": {
      "text/plain": "    ID  Consumo (0) / Producción (1)  Dia  Mes    Año      1     2     3  \\\n0  ABC                             0    2    11  2013  58.00  75.0  65.0   \n1  ABC                             0    3    11  2013   0.16   0.1  68.0   \n2  ABC                             0    4    11  2013   0.08  66.0  77.0   \n3  ABC                             0    5    11  2013  68.00  58.0  95.0   \n4  ABC                             0    6    11  2013  77.00  61.0  97.0   \n\n       4     5  ...     87     88      89     90     91      92      93  \\\n0   0.08  67.0  ...  338.0  369.0  318.00  322.0  345.0  298.00  316.00   \n1  69.00  75.0  ...   67.0   74.0   61.00   84.0   74.0   67.00   77.00   \n2  64.00  84.0  ...  114.0  106.0  128.00  511.0   74.0   84.00   59.00   \n3  81.00  74.0  ...  167.0  202.0    0.53  226.0  256.0  315.00  421.00   \n4  65.00  78.0  ...  117.0  345.0  351.00   69.0   57.0    0.07    0.07   \n\n      94      95     96  \n0  299.0  341.00  304.0  \n1   91.0    0.07   61.0  \n2   69.0   69.00   71.0  \n3   66.0    0.09   64.0  \n4   72.0   56.00   78.0  \n\n[5 rows x 101 columns]",
      "text/html": "<div>\n<style scoped>\n    .dataframe tbody tr th:only-of-type {\n        vertical-align: middle;\n    }\n\n    .dataframe tbody tr th {\n        vertical-align: top;\n    }\n\n    .dataframe thead th {\n        text-align: right;\n    }\n</style>\n<table border=\"1\" class=\"dataframe\">\n  <thead>\n    <tr style=\"text-align: right;\">\n      <th></th>\n      <th>ID</th>\n      <th>Consumo (0) / Producción (1)</th>\n      <th>Dia</th>\n      <th>Mes</th>\n      <th>Año</th>\n      <th>1</th>\n      <th>2</th>\n      <th>3</th>\n      <th>4</th>\n      <th>5</th>\n      <th>...</th>\n      <th>87</th>\n      <th>88</th>\n      <th>89</th>\n      <th>90</th>\n      <th>91</th>\n      <th>92</th>\n      <th>93</th>\n      <th>94</th>\n      <th>95</th>\n      <th>96</th>\n    </tr>\n  </thead>\n  <tbody>\n    <tr>\n      <th>0</th>\n      <td>ABC</td>\n      <td>0</td>\n      <td>2</td>\n      <td>11</td>\n      <td>2013</td>\n      <td>58.00</td>\n      <td>75.0</td>\n      <td>65.0</td>\n      <td>0.08</td>\n      <td>67.0</td>\n      <td>...</td>\n      <td>338.0</td>\n      <td>369.0</td>\n      <td>318.00</td>\n      <td>322.0</td>\n      <td>345.0</td>\n      <td>298.00</td>\n      <td>316.00</td>\n      <td>299.0</td>\n      <td>341.00</td>\n      <td>304.0</td>\n    </tr>\n    <tr>\n      <th>1</th>\n      <td>ABC</td>\n      <td>0</td>\n      <td>3</td>\n      <td>11</td>\n      <td>2013</td>\n      <td>0.16</td>\n      <td>0.1</td>\n      <td>68.0</td>\n      <td>69.00</td>\n      <td>75.0</td>\n      <td>...</td>\n      <td>67.0</td>\n      <td>74.0</td>\n      <td>61.00</td>\n      <td>84.0</td>\n      <td>74.0</td>\n      <td>67.00</td>\n      <td>77.00</td>\n      <td>91.0</td>\n      <td>0.07</td>\n      <td>61.0</td>\n    </tr>\n    <tr>\n      <th>2</th>\n      <td>ABC</td>\n      <td>0</td>\n      <td>4</td>\n      <td>11</td>\n      <td>2013</td>\n      <td>0.08</td>\n      <td>66.0</td>\n      <td>77.0</td>\n      <td>64.00</td>\n      <td>84.0</td>\n      <td>...</td>\n      <td>114.0</td>\n      <td>106.0</td>\n      <td>128.00</td>\n      <td>511.0</td>\n      <td>74.0</td>\n      <td>84.00</td>\n      <td>59.00</td>\n      <td>69.0</td>\n      <td>69.00</td>\n      <td>71.0</td>\n    </tr>\n    <tr>\n      <th>3</th>\n      <td>ABC</td>\n      <td>0</td>\n      <td>5</td>\n      <td>11</td>\n      <td>2013</td>\n      <td>68.00</td>\n      <td>58.0</td>\n      <td>95.0</td>\n      <td>81.00</td>\n      <td>74.0</td>\n      <td>...</td>\n      <td>167.0</td>\n      <td>202.0</td>\n      <td>0.53</td>\n      <td>226.0</td>\n      <td>256.0</td>\n      <td>315.00</td>\n      <td>421.00</td>\n      <td>66.0</td>\n      <td>0.09</td>\n      <td>64.0</td>\n    </tr>\n    <tr>\n      <th>4</th>\n      <td>ABC</td>\n      <td>0</td>\n      <td>6</td>\n      <td>11</td>\n      <td>2013</td>\n      <td>77.00</td>\n      <td>61.0</td>\n      <td>97.0</td>\n      <td>65.00</td>\n      <td>78.0</td>\n      <td>...</td>\n      <td>117.0</td>\n      <td>345.0</td>\n      <td>351.00</td>\n      <td>69.0</td>\n      <td>57.0</td>\n      <td>0.07</td>\n      <td>0.07</td>\n      <td>72.0</td>\n      <td>56.00</td>\n      <td>78.0</td>\n    </tr>\n  </tbody>\n</table>\n<p>5 rows × 101 columns</p>\n</div>"
     },
     "execution_count": 2,
     "metadata": {},
     "output_type": "execute_result"
    }
   ],
   "source": [
    "df = pd.read_csv(\"Archivos_trazas/Prosumer_ABC.csv\",sep=';')\n",
    "df.head()"
   ],
   "metadata": {
    "collapsed": false,
    "pycharm": {
     "name": "#%%\n"
    }
   }
  }
 ],
 "metadata": {
  "kernelspec": {
   "display_name": "Python 3",
   "language": "python",
   "name": "python3"
  },
  "language_info": {
   "codemirror_mode": {
    "name": "ipython",
    "version": 2
   },
   "file_extension": ".py",
   "mimetype": "text/x-python",
   "name": "python",
   "nbconvert_exporter": "python",
   "pygments_lexer": "ipython2",
   "version": "2.7.6"
  }
 },
 "nbformat": 4,
 "nbformat_minor": 0
}