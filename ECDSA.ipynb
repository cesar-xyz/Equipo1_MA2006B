{
 "cells": [
  {
   "cell_type": "markdown",
   "metadata": {
    "pycharm": {
     "name": "#%% md\n"
    }
   },
   "source": [
    "# Pruebas con ECDSA\n",
    "<a href= https://www.rfc-editor.org/rfc/rfc6979>A.2.3.  ECDSA, 192 Bits (Prime Field)</a>\n",
    "<a></a>\n",
    "\n",
    "### Teniendo los siguientes supuestos:\n",
    "q = FFFFFFFFFFFFFFFFFFFFFFFF99DEF836146BC9B1B4D22831\n",
    "\n",
    "q = n\n",
    "\n",
    "qlen = 192 bits\n",
    "\n",
    "**Private key:**\n",
    "\n",
    "   x = 6FAB034934E4C0FC9AE67F5B5659A9D7D1FEFD187EE09FD4\n",
    "\n",
    "   public key: U = xG\n",
    "\n",
    "   Ux = AC2C77F529F91689FEA0EA5EFEC7F210D8EEA0B9E047ED56\n",
    "\n",
    "   Uy = 3BC723E57670BD4887EBC732C523063D0A7C957BC97C1C43\n"
   ]
  },
  {
   "cell_type": "markdown",
   "metadata": {},
   "source": [
    "## Utilizando SHA-1"
   ]
  },
  {
   "cell_type": "markdown",
   "metadata": {},
   "source": [
    "**Signatures:**\n",
    "\n",
    "   With SHA-1, message = \"sample\":\n",
    "   \n",
    "   k = 37D7CA00D2C7B0E5E412AC03BD44BA837FDD5B28CD3B0021\n",
    "   \n",
    "   r = 98C6BD12B23EAF5E2A2045132086BE3EB8EBD62ABF6698FF\n",
    "   \n",
    "   s = 57A22B07DEA9530F8DE9471B1DC6624472E8E2844BC25B64\n"
   ]
  },
  {
   "cell_type": "markdown",
   "metadata": {
    "pycharm": {
     "name": "#%% md\n"
    }
   },
   "source": [
    "Se convierten el parámetro k (pre-creado pseudoaleatoriamente) y q de hexadecimal a decimal."
   ]
  },
  {
   "cell_type": "code",
   "execution_count": 1,
   "metadata": {
    "pycharm": {
     "name": "#%%\n"
    }
   },
   "outputs": [
    {
     "name": "stdout",
     "output_type": "stream",
     "text": [
      "Q en Decimal:  6277101735386680763835789423176059013767194773182842284081\n",
      "K en Decimal:  20668487206396357343557279172971981422678151874649718817\n"
     ]
    }
   ],
   "source": [
    "integer_q = int('FFFFFFFFFFFFFFFFFFFFFFFF99DEF836146BC9B1B4D22831', 16)\n",
    "integer_k = int('D7CA00D2C7B0E5E412AC03BD44BA837FDD5B28CD3B0021', 16)\n",
    "print(\"Q en Decimal: \", integer_q)\n",
    "print(\"K en Decimal: \", integer_k)"
   ]
  },
  {
   "cell_type": "markdown",
   "metadata": {
    "pycharm": {
     "name": "#%% md\n"
    }
   },
   "source": [
    "\n",
    "Antes de nosotros de manera autónoma generemos k inversa, realizaremos pruebas de funcionalidad utilizando una libreria externa llamada gmpy2."
   ]
  },
  {
   "cell_type": "code",
   "execution_count": 2,
   "metadata": {
    "pycharm": {
     "name": "#%%\n"
    }
   },
   "outputs": [
    {
     "name": "stdout",
     "output_type": "stream",
     "text": [
      "K inverso es igual a : 6084415731274851732666486300793851322643069316458093099873\n"
     ]
    }
   ],
   "source": [
    "import gmpy2\n",
    "\n",
    "# Se utiliza el método invert().\n",
    "# Regresa el valor del inverso (inv) donde integer_k * inv == 1 mod integer_q, si no existe entonces regresa 0.\n",
    "inv = gmpy2.invert(integer_k, integer_q)\n",
    "print(\"K inverso es igual a :\", inv)"
   ]
  },
  {
   "cell_type": "markdown",
   "metadata": {
    "pycharm": {
     "name": "#%% md\n"
    }
   },
   "source": [
    "**Verificación:** Podemos observar que $(k * k')\\bmod{n} \\equiv 1e $ , demostrando que k' si es correcta."
   ]
  },
  {
   "cell_type": "code",
   "execution_count": 3,
   "metadata": {
    "pycharm": {
     "name": "#%%\n"
    }
   },
   "outputs": [
    {
     "data": {
      "text/plain": [
       "mpz(1)"
      ]
     },
     "execution_count": 3,
     "metadata": {},
     "output_type": "execute_result"
    }
   ],
   "source": [
    "(inv * integer_k) % integer_q"
   ]
  },
  {
   "cell_type": "markdown",
   "metadata": {
    "pycharm": {
     "name": "#%% md\n"
    }
   },
   "source": [
    "## Uso de nuestra propia función de calcular inversos por metodo de euler"
   ]
  },
  {
   "cell_type": "code",
   "execution_count": 4,
   "metadata": {
    "pycharm": {
     "name": "#%%\n"
    }
   },
   "outputs": [],
   "source": [
    "def inverse_euler(a, m):\n",
    "    # Calcular el inverso utilizando el método de Euler\n",
    "    # función pow() que sería equivalente a decir: el valor a elevado a la (m - 2) modulo m\n",
    "    return pow(a, m - 2, m)"
   ]
  },
  {
   "cell_type": "code",
   "execution_count": 5,
   "metadata": {
    "pycharm": {
     "name": "#%%\n"
    }
   },
   "outputs": [
    {
     "name": "stdout",
     "output_type": "stream",
     "text": [
      "K inverso es igual a : 6084415731274851732666486300793851322643069316458093099873\n"
     ]
    }
   ],
   "source": [
    "kinv = inverse_euler(integer_k, integer_q)  # 2^2\n",
    "print(\"K inverso es igual a :\", kinv)"
   ]
  },
  {
   "cell_type": "markdown",
   "metadata": {},
   "source": [
    "Recordando que el valor de k calculada por la libreria es: 6084415731274851732666486300793851322643069316458093099873\n",
    "\n",
    "Se observa que k' calculada por la libreria es igual a nuestra k' calculada por el metodo de euler."
   ]
  },
  {
   "cell_type": "code",
   "execution_count": 6,
   "metadata": {},
   "outputs": [
    {
     "data": {
      "text/plain": [
       "True"
      ]
     },
     "execution_count": 6,
     "metadata": {},
     "output_type": "execute_result"
    }
   ],
   "source": [
    "kinv == inv"
   ]
  },
  {
   "cell_type": "markdown",
   "metadata": {
    "pycharm": {
     "name": "#%% md\n"
    }
   },
   "source": [
    "Aun sabiendo que ambas k' son iguales, verificamos por $(k * k')\\bmod{n} \\equiv 1e $  y efectivamente el k' de nosotros es correcta."
   ]
  },
  {
   "cell_type": "code",
   "execution_count": 7,
   "metadata": {
    "pycharm": {
     "name": "#%%\n"
    },
    "scrolled": true
   },
   "outputs": [
    {
     "data": {
      "text/plain": [
       "1"
      ]
     },
     "execution_count": 7,
     "metadata": {},
     "output_type": "execute_result"
    }
   ],
   "source": [
    "(kinv * integer_k) % integer_q"
   ]
  },
  {
   "cell_type": "markdown",
   "metadata": {},
   "source": [
    "## Utilizando SHA-256"
   ]
  },
  {
   "cell_type": "markdown",
   "metadata": {},
   "source": [
    "**Signatures:**\n",
    "\n",
    "   With SHA-256, message = \"sample\":\n",
    "   \n",
    "   k = 32B1B6D7D42A05CB449065727A84804FB1A3E34D8F261496\n",
    "   \n",
    "   r = 4B0B8CE98A92866A2820E20AA6B75B56382E0F9BFD5ECB55\n",
    "   \n",
    "   s = CCDB006926EA9565CBADC840829D8C384E06DE1F1E381B85\n"
   ]
  },
  {
   "cell_type": "markdown",
   "metadata": {
    "pycharm": {
     "name": "#%% md\n"
    }
   },
   "source": [
    "\n",
    "Antes de nosotros de manera autónoma generemos k inversa, realizaremos pruebas de funcionalidad utilizando una libreria externa llamada gmpy2."
   ]
  },
  {
   "cell_type": "markdown",
   "metadata": {},
   "source": [
    "### Utilizando Librería"
   ]
  },
  {
   "cell_type": "code",
   "execution_count": 8,
   "metadata": {
    "pycharm": {
     "name": "#%%\n"
    }
   },
   "outputs": [
    {
     "name": "stdout",
     "output_type": "stream",
     "text": [
      "Q en Decimal:  6277101735386680763835789423176059013767194773182842284081\n",
      "K en Decimal:  20668487206396357343557279172971981422678151874649718817\n"
     ]
    }
   ],
   "source": [
    "integer_q = int('FFFFFFFFFFFFFFFFFFFFFFFF99DEF836146BC9B1B4D22831', 16)\n",
    "integer_k2 = int('32B1B6D7D42A05CB449065727A84804FB1A3E34D8F261496', 16)\n",
    "print(\"Q en Decimal: \", integer_q)\n",
    "print(\"K en Decimal: \", integer_k)"
   ]
  },
  {
   "cell_type": "markdown",
   "metadata": {
    "pycharm": {
     "name": "#%% md\n"
    }
   },
   "source": [
    "\n",
    "Antes de nosotros de manera autónoma generemos k inversa, realizaremos pruebas de funcionalidad utilizando una libreria externa llamada gmpy2."
   ]
  },
  {
   "cell_type": "code",
   "execution_count": 9,
   "metadata": {
    "pycharm": {
     "name": "#%%\n"
    }
   },
   "outputs": [
    {
     "name": "stdout",
     "output_type": "stream",
     "text": [
      "K inverso es igual a : 2261212877458076448143956633756580180584349507820311552642\n"
     ]
    }
   ],
   "source": [
    "inv2 = gmpy2.invert(integer_k2, integer_q)\n",
    "print(\"K inverso es igual a :\", inv2)"
   ]
  },
  {
   "cell_type": "markdown",
   "metadata": {
    "pycharm": {
     "name": "#%% md\n"
    }
   },
   "source": [
    "**Verificación:** Podemos observar que $(k * k')\\bmod{n} \\equiv 1e $ , demostrando que k' si es correcta."
   ]
  },
  {
   "cell_type": "code",
   "execution_count": 10,
   "metadata": {
    "pycharm": {
     "name": "#%%\n"
    }
   },
   "outputs": [
    {
     "data": {
      "text/plain": [
       "mpz(1)"
      ]
     },
     "execution_count": 10,
     "metadata": {},
     "output_type": "execute_result"
    }
   ],
   "source": [
    "(inv2 * integer_k2) % integer_q"
   ]
  },
  {
   "cell_type": "markdown",
   "metadata": {
    "pycharm": {
     "name": "#%% md\n"
    }
   },
   "source": [
    "## Uso de nuestra propia función de calcular inversos por metodo de euler"
   ]
  },
  {
   "cell_type": "code",
   "execution_count": 11,
   "metadata": {
    "pycharm": {
     "name": "#%%\n"
    }
   },
   "outputs": [
    {
     "name": "stdout",
     "output_type": "stream",
     "text": [
      "K inverso es igual a : 2261212877458076448143956633756580180584349507820311552642\n"
     ]
    }
   ],
   "source": [
    "kinv2 = inverse_euler(integer_k2, integer_q)  # 2^2\n",
    "print(\"K inverso es igual a :\", kinv2)"
   ]
  },
  {
   "cell_type": "markdown",
   "metadata": {},
   "source": [
    "Recordando que el valor de k calculada por la libreria es: 2261212877458076448143956633756580180584349507820311552642\n",
    "\n",
    "Se observa que k' calculada por la libreria es igual a nuestra k' calculada por el metodo de euler."
   ]
  },
  {
   "cell_type": "code",
   "execution_count": 12,
   "metadata": {},
   "outputs": [
    {
     "data": {
      "text/plain": [
       "True"
      ]
     },
     "execution_count": 12,
     "metadata": {},
     "output_type": "execute_result"
    }
   ],
   "source": [
    "kinv2 == inv2"
   ]
  },
  {
   "cell_type": "markdown",
   "metadata": {
    "pycharm": {
     "name": "#%% md\n"
    }
   },
   "source": [
    "Aun sabiendo que ambas k' son iguales, verificamos por $(k * k')\\bmod{n} \\equiv 1e $  y efectivamente el k' de nosotros es correcta."
   ]
  },
  {
   "cell_type": "code",
   "execution_count": 13,
   "metadata": {
    "pycharm": {
     "name": "#%%\n"
    },
    "scrolled": true
   },
   "outputs": [
    {
     "data": {
      "text/plain": [
       "1"
      ]
     },
     "execution_count": 13,
     "metadata": {},
     "output_type": "execute_result"
    }
   ],
   "source": [
    "(kinv2 * integer_k2) % integer_q"
   ]
  }
 ],
 "metadata": {
  "kernelspec": {
   "display_name": "Python 3 (ipykernel)",
   "language": "python",
   "name": "python3"
  },
  "language_info": {
   "codemirror_mode": {
    "name": "ipython",
    "version": 3
   },
   "file_extension": ".py",
   "mimetype": "text/x-python",
   "name": "python",
   "nbconvert_exporter": "python",
   "pygments_lexer": "ipython3",
   "version": "3.8.10"
  }
 },
 "nbformat": 4,
 "nbformat_minor": 1
}