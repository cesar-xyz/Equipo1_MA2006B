{
 "cells": [
  {
   "cell_type": "markdown",
   "source": [
    "# Pruebas con ECDSA\n",
    "<a href= https://www.rfc-editor.org/rfc/rfc6979>A.2.3.  ECDSA, 192 Bits (Prime Field)</a>\n",
    "<a></a>\n",
    "\n",
    "### Teniendo los siguientes supuestos:\n",
    "q = FFFFFFFFFFFFFFFFFFFFFFFF99DEF836146BC9B1B4D22831\n",
    "q = n\n",
    "qlen = 192 bits\n",
    "\n",
    "**Private key:**\n",
    "\n",
    "   x = 6FAB034934E4C0FC9AE67F5B5659A9D7D1FEFD187EE09FD4\n",
    "\n",
    "   public key: U = xG\n",
    "\n",
    "   Ux = AC2C77F529F91689FEA0EA5EFEC7F210D8EEA0B9E047ED56\n",
    "\n",
    "   Uy = 3BC723E57670BD4887EBC732C523063D0A7C957BC97C1C43\n",
    "\n",
    "**Signatures:**\n",
    "\n",
    "   With SHA-1, message = \"sample\":\n",
    "   k = 37D7CA00D2C7B0E5E412AC03BD44BA837FDD5B28CD3B0021\n",
    "   r = 98C6BD12B23EAF5E2A2045132086BE3EB8EBD62ABF6698FF\n",
    "   s = 57A22B07DEA9530F8DE9471B1DC6624472E8E2844BC25B64\n"
   ],
   "metadata": {
    "collapsed": false,
    "pycharm": {
     "name": "#%% md\n"
    }
   }
  },
  {
   "cell_type": "markdown",
   "source": [
    "Se convierten la k y q de hexadecimal a decimal."
   ],
   "metadata": {
    "collapsed": false,
    "pycharm": {
     "name": "#%% md\n"
    }
   }
  },
  {
   "cell_type": "code",
   "execution_count": 1,
   "outputs": [],
   "source": [
    "integer_q = int('FFFFFFFFFFFFFFFFFFFFFFFF99DEF836146BC9B1B4D22831', 16)\n",
    "integer_k = int('D7CA00D2C7B0E5E412AC03BD44BA837FDD5B28CD3B0021', 16)"
   ],
   "metadata": {
    "collapsed": false,
    "pycharm": {
     "name": "#%%\n"
    }
   }
  },
  {
   "cell_type": "markdown",
   "source": [
    "\n",
    "Antes de nosotros de manera autónoma generemos k inversa, realizaremos pruebas de funcionalidad utilizando una libreria externa llamada gmpy2."
   ],
   "metadata": {
    "collapsed": false,
    "pycharm": {
     "name": "#%% md\n"
    }
   }
  },
  {
   "cell_type": "code",
   "execution_count": 2,
   "outputs": [
    {
     "name": "stdout",
     "output_type": "stream",
     "text": [
      "K inverso es igual a : 6084415731274851732666486300793851322643069316458093099873\n"
     ]
    }
   ],
   "source": [
    "import gmpy2\n",
    "\n",
    "inv = gmpy2.invert(integer_k, integer_q)\n",
    "print(\"K inverso es igual a :\", inv)"
   ],
   "metadata": {
    "collapsed": false,
    "pycharm": {
     "name": "#%%\n"
    }
   }
  },
  {
   "cell_type": "markdown",
   "source": [
    "**Verificación:** Podemos observar que $(k * k')\\bmod{n} \\equiv 1e $ , demostrando que k' si es correcta."
   ],
   "metadata": {
    "collapsed": false,
    "pycharm": {
     "name": "#%% md\n"
    }
   }
  },
  {
   "cell_type": "code",
   "execution_count": 3,
   "outputs": [
    {
     "data": {
      "text/plain": "mpz(1)"
     },
     "execution_count": 3,
     "metadata": {},
     "output_type": "execute_result"
    }
   ],
   "source": [
    "(inv * integer_k) % integer_q"
   ],
   "metadata": {
    "collapsed": false,
    "pycharm": {
     "name": "#%%\n"
    }
   }
  },
  {
   "cell_type": "markdown",
   "source": [
    "## Uso de nuestra propia función de calcular inversos por metodo de euler"
   ],
   "metadata": {
    "collapsed": false,
    "pycharm": {
     "name": "#%% md\n"
    }
   }
  },
  {
   "cell_type": "code",
   "execution_count": 4,
   "outputs": [],
   "source": [
    "def inverse_euler(a, m):\n",
    "    # Calcular el inverso utilizando el método de Euler\n",
    "    return pow(a, m - 2, m)"
   ],
   "metadata": {
    "collapsed": false,
    "pycharm": {
     "name": "#%%\n"
    }
   }
  },
  {
   "cell_type": "markdown",
   "source": [
    "Se observa que k' calculada por la libreria es igual a nuestra k' calculada por el metodo de euler."
   ],
   "metadata": {
    "collapsed": false,
    "pycharm": {
     "name": "#%% md\n"
    }
   }
  },
  {
   "cell_type": "code",
   "execution_count": 5,
   "outputs": [
    {
     "name": "stdout",
     "output_type": "stream",
     "text": [
      "K inverso es igual a : 6084415731274851732666486300793851322643069316458093099873\n"
     ]
    }
   ],
   "source": [
    "kinv = inverse_euler(integer_k, integer_q)  # 2^2\n",
    "print(\"K inverso es igual a :\", kinv)"
   ],
   "metadata": {
    "collapsed": false,
    "pycharm": {
     "name": "#%%\n"
    }
   }
  },
  {
   "cell_type": "markdown",
   "source": [
    "Aun sabiendo que ambas k' son iguales, verificamos por $(k * k')\\bmod{n} \\equiv 1e $  y efectivamente el k' de nosotros es correcta."
   ],
   "metadata": {
    "collapsed": false,
    "pycharm": {
     "name": "#%% md\n"
    }
   }
  },
  {
   "cell_type": "code",
   "execution_count": 6,
   "outputs": [
    {
     "data": {
      "text/plain": "1"
     },
     "execution_count": 6,
     "metadata": {},
     "output_type": "execute_result"
    }
   ],
   "source": [
    "(kinv * integer_k) % integer_q"
   ],
   "metadata": {
    "collapsed": false,
    "pycharm": {
     "name": "#%%\n"
    }
   }
  }
 ],
 "metadata": {
  "kernelspec": {
   "display_name": "Python 3",
   "language": "python",
   "name": "python3"
  },
  "language_info": {
   "codemirror_mode": {
    "name": "ipython",
    "version": 2
   },
   "file_extension": ".py",
   "mimetype": "text/x-python",
   "name": "python",
   "nbconvert_exporter": "python",
   "pygments_lexer": "ipython2",
   "version": "2.7.6"
  }
 },
 "nbformat": 4,
 "nbformat_minor": 0
}